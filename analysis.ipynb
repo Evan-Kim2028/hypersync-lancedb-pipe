{
 "cells": [
  {
   "cell_type": "code",
   "execution_count": 1,
   "metadata": {},
   "outputs": [
    {
     "name": "stderr",
     "output_type": "stream",
     "text": [
      "/home/evan/Documents/hypersync-lancedb-pipe/.venv/lib/python3.12/site-packages/tqdm/auto.py:21: TqdmWarning: IProgress not found. Please update jupyter and ipywidgets. See https://ipywidgets.readthedocs.io/en/stable/user_install.html\n",
      "  from .autonotebook import tqdm as notebook_tqdm\n"
     ]
    }
   ],
   "source": [
    "import polars as pl\n",
    "import lancedb\n",
    "import time"
   ]
  },
  {
   "cell_type": "markdown",
   "metadata": {},
   "source": [
    "Run this notebook in a loop to monitor the progress of the dataset. Analytics can also be run simultaneously while the dataset is getting updated."
   ]
  },
  {
   "cell_type": "code",
   "execution_count": 2,
   "metadata": {},
   "outputs": [
    {
     "name": "stdout",
     "output_type": "stream",
     "text": [
      "(180000, 19)\n",
      "(189999, 19)\n",
      "(199999, 19)\n",
      "(199999, 19)\n",
      "(209999, 19)\n"
     ]
    }
   ],
   "source": [
    "while True:\n",
    "    table_name = \"blocks\"\n",
    "    db: lancedb.DBConnection = lancedb.connect(table_name)\n",
    "    # Try to open and merge data into existing table.\n",
    "    table: lancedb.table = db.open_table(table_name)\n",
    "\n",
    "    # Get the latest block number\n",
    "    print(table.to_polars().sort(\n",
    "        by=\"block_number\", descending=True).collect().shape)\n",
    "    time.sleep(180)"
   ]
  },
  {
   "cell_type": "code",
   "execution_count": null,
   "metadata": {},
   "outputs": [],
   "source": []
  }
 ],
 "metadata": {
  "kernelspec": {
   "display_name": ".venv",
   "language": "python",
   "name": "python3"
  },
  "language_info": {
   "codemirror_mode": {
    "name": "ipython",
    "version": 3
   },
   "file_extension": ".py",
   "mimetype": "text/x-python",
   "name": "python",
   "nbconvert_exporter": "python",
   "pygments_lexer": "ipython3",
   "version": "3.12.2"
  }
 },
 "nbformat": 4,
 "nbformat_minor": 2
}
